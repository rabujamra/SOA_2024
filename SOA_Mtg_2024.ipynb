{
 "cells": [
  {
   "cell_type": "code",
   "execution_count": 1,
   "id": "3accf774-5157-47e5-b3e7-cce75f71c37b",
   "metadata": {},
   "outputs": [
    {
     "data": {
      "text/plain": [
       "<module 'SOAMtg24_models' from '/Users/joehaber/Desktop/Desktop/1. ActuariAI/Research/OWL_Nadav/SOAMtg24_models.py'>"
      ]
     },
     "execution_count": 1,
     "metadata": {},
     "output_type": "execute_result"
    }
   ],
   "source": [
    "import pandas as pd\n",
    "import numpy as np\n",
    "\n",
    "import seaborn as sns\n",
    "import matplotlib as mpl\n",
    "import matplotlib.pyplot as plt\n",
    "%matplotlib inline\n",
    "\n",
    "pd.set_option('display.max_columns', None)\n",
    "pd.set_option('display.max_rows', None)\n",
    "plt.style.use('ggplot')\n",
    "\n",
    "from random import seed\n",
    "from random import random\n",
    "from sklearn.linear_model import LogisticRegression\n",
    "\n",
    "import importlib\n",
    "import SOAMtg24_models as mdls\n",
    "importlib.reload(mdls)\n"
   ]
  },
  {
   "cell_type": "markdown",
   "id": "73e3f4e0-fea6-4dab-a4b6-6137338ca52b",
   "metadata": {},
   "source": [
    "### Get Data"
   ]
  },
  {
   "cell_type": "code",
   "execution_count": 2,
   "id": "06467e7c-52ac-47bf-8e7d-450f37582443",
   "metadata": {},
   "outputs": [],
   "source": [
    "df = pd.read_csv('Readmit_R.csv')"
   ]
  },
  {
   "cell_type": "code",
   "execution_count": 3,
   "id": "179345a1-6309-4858-979f-211eded60b82",
   "metadata": {},
   "outputs": [],
   "source": [
    "# Clean up\n",
    "\n",
    "df.drop(columns=df.columns[0:1], axis=1, inplace=True)\n",
    "\n",
    "df.rename({'ID.Codes': 'ID', \n",
    "           'Readmission.Status': 'Readmit', \n",
    "           'DRG.Class': 'DRG_Class', \n",
    "           'DRG.Complication': 'DRG_Comp',\n",
    "           'HCC.Riskscore': 'HCC'}, axis=1, inplace=True)"
   ]
  },
  {
   "cell_type": "code",
   "execution_count": 4,
   "id": "211bc62e-e011-482a-a7c0-5f602d35e5f7",
   "metadata": {},
   "outputs": [
    {
     "name": "stdout",
     "output_type": "stream",
     "text": [
      "(66782, 10)\n"
     ]
    },
    {
     "data": {
      "text/html": [
       "<div>\n",
       "<style scoped>\n",
       "    .dataframe tbody tr th:only-of-type {\n",
       "        vertical-align: middle;\n",
       "    }\n",
       "\n",
       "    .dataframe tbody tr th {\n",
       "        vertical-align: top;\n",
       "    }\n",
       "\n",
       "    .dataframe thead th {\n",
       "        text-align: right;\n",
       "    }\n",
       "</style>\n",
       "<table border=\"1\" class=\"dataframe\">\n",
       "  <thead>\n",
       "    <tr style=\"text-align: right;\">\n",
       "      <th></th>\n",
       "      <th>ID</th>\n",
       "      <th>Readmit</th>\n",
       "      <th>Gender</th>\n",
       "      <th>Race</th>\n",
       "      <th>ER</th>\n",
       "      <th>DRG_Class</th>\n",
       "      <th>LOS</th>\n",
       "      <th>Age</th>\n",
       "      <th>HCC</th>\n",
       "      <th>DRG_Comp</th>\n",
       "    </tr>\n",
       "  </thead>\n",
       "  <tbody>\n",
       "    <tr>\n",
       "      <th>0</th>\n",
       "      <td>0005EC02F1DC3A15</td>\n",
       "      <td>0</td>\n",
       "      <td>M</td>\n",
       "      <td>White</td>\n",
       "      <td>0</td>\n",
       "      <td>MED</td>\n",
       "      <td>3</td>\n",
       "      <td>71</td>\n",
       "      <td>1.631</td>\n",
       "      <td>MedicalMCC.CC</td>\n",
       "    </tr>\n",
       "    <tr>\n",
       "      <th>1</th>\n",
       "      <td>0005EC02F1DC3A15</td>\n",
       "      <td>0</td>\n",
       "      <td>M</td>\n",
       "      <td>White</td>\n",
       "      <td>0</td>\n",
       "      <td>SURG</td>\n",
       "      <td>2</td>\n",
       "      <td>71</td>\n",
       "      <td>1.631</td>\n",
       "      <td>Other</td>\n",
       "    </tr>\n",
       "    <tr>\n",
       "      <th>2</th>\n",
       "      <td>0006C4369B0D7B5F</td>\n",
       "      <td>0</td>\n",
       "      <td>M</td>\n",
       "      <td>White</td>\n",
       "      <td>0</td>\n",
       "      <td>MED</td>\n",
       "      <td>2</td>\n",
       "      <td>68</td>\n",
       "      <td>0.585</td>\n",
       "      <td>MedicalNoC</td>\n",
       "    </tr>\n",
       "    <tr>\n",
       "      <th>3</th>\n",
       "      <td>000960C9E1C43BE4</td>\n",
       "      <td>0</td>\n",
       "      <td>F</td>\n",
       "      <td>White</td>\n",
       "      <td>0</td>\n",
       "      <td>SURG</td>\n",
       "      <td>12</td>\n",
       "      <td>79</td>\n",
       "      <td>1.660</td>\n",
       "      <td>SurgNoC</td>\n",
       "    </tr>\n",
       "    <tr>\n",
       "      <th>4</th>\n",
       "      <td>00098CF15837D918</td>\n",
       "      <td>0</td>\n",
       "      <td>M</td>\n",
       "      <td>White</td>\n",
       "      <td>0</td>\n",
       "      <td>SURG</td>\n",
       "      <td>4</td>\n",
       "      <td>91</td>\n",
       "      <td>1.768</td>\n",
       "      <td>SurgNoC</td>\n",
       "    </tr>\n",
       "  </tbody>\n",
       "</table>\n",
       "</div>"
      ],
      "text/plain": [
       "                 ID  Readmit Gender   Race  ER DRG_Class  LOS  Age    HCC  \\\n",
       "0  0005EC02F1DC3A15        0      M  White   0       MED    3   71  1.631   \n",
       "1  0005EC02F1DC3A15        0      M  White   0      SURG    2   71  1.631   \n",
       "2  0006C4369B0D7B5F        0      M  White   0       MED    2   68  0.585   \n",
       "3  000960C9E1C43BE4        0      F  White   0      SURG   12   79  1.660   \n",
       "4  00098CF15837D918        0      M  White   0      SURG    4   91  1.768   \n",
       "\n",
       "        DRG_Comp  \n",
       "0  MedicalMCC.CC  \n",
       "1          Other  \n",
       "2     MedicalNoC  \n",
       "3        SurgNoC  \n",
       "4        SurgNoC  "
      ]
     },
     "execution_count": 4,
     "metadata": {},
     "output_type": "execute_result"
    }
   ],
   "source": [
    "print(df.shape)\n",
    "df.head()"
   ]
  },
  {
   "cell_type": "code",
   "execution_count": 5,
   "id": "9e908e4a-0637-4145-80c0-578a6a417a45",
   "metadata": {},
   "outputs": [
    {
     "data": {
      "text/plain": [
       "Readmit\n",
       "0    58373\n",
       "1     8409\n",
       "Name: count, dtype: int64"
      ]
     },
     "execution_count": 5,
     "metadata": {},
     "output_type": "execute_result"
    }
   ],
   "source": [
    "df.Readmit.value_counts()"
   ]
  },
  {
   "cell_type": "code",
   "execution_count": 6,
   "id": "afac521d-40f3-4009-9828-5cfa1eea3844",
   "metadata": {},
   "outputs": [],
   "source": [
    "df1 = pd.get_dummies(df, columns = ['Gender','Race','DRG_Class','DRG_Comp'], drop_first=True)"
   ]
  },
  {
   "cell_type": "code",
   "execution_count": 7,
   "id": "3aae4a9f-62fa-4c10-8252-1b4c9ddfb507",
   "metadata": {},
   "outputs": [
    {
     "data": {
      "text/html": [
       "<div>\n",
       "<style scoped>\n",
       "    .dataframe tbody tr th:only-of-type {\n",
       "        vertical-align: middle;\n",
       "    }\n",
       "\n",
       "    .dataframe tbody tr th {\n",
       "        vertical-align: top;\n",
       "    }\n",
       "\n",
       "    .dataframe thead th {\n",
       "        text-align: right;\n",
       "    }\n",
       "</style>\n",
       "<table border=\"1\" class=\"dataframe\">\n",
       "  <thead>\n",
       "    <tr style=\"text-align: right;\">\n",
       "      <th></th>\n",
       "      <th>ID</th>\n",
       "      <th>Readmit</th>\n",
       "      <th>ER</th>\n",
       "      <th>LOS</th>\n",
       "      <th>Age</th>\n",
       "      <th>HCC</th>\n",
       "      <th>Gender_M</th>\n",
       "      <th>Race_Hispanic</th>\n",
       "      <th>Race_Others</th>\n",
       "      <th>Race_White</th>\n",
       "      <th>DRG_Class_SURG</th>\n",
       "      <th>DRG_Class_UNGROUP</th>\n",
       "      <th>DRG_Comp_MedicalNoC</th>\n",
       "      <th>DRG_Comp_Other</th>\n",
       "      <th>DRG_Comp_SurgMCC.CC</th>\n",
       "      <th>DRG_Comp_SurgNoC</th>\n",
       "    </tr>\n",
       "  </thead>\n",
       "  <tbody>\n",
       "    <tr>\n",
       "      <th>0</th>\n",
       "      <td>0005EC02F1DC3A15</td>\n",
       "      <td>0</td>\n",
       "      <td>0</td>\n",
       "      <td>3</td>\n",
       "      <td>71</td>\n",
       "      <td>1.631</td>\n",
       "      <td>True</td>\n",
       "      <td>False</td>\n",
       "      <td>False</td>\n",
       "      <td>True</td>\n",
       "      <td>False</td>\n",
       "      <td>False</td>\n",
       "      <td>False</td>\n",
       "      <td>False</td>\n",
       "      <td>False</td>\n",
       "      <td>False</td>\n",
       "    </tr>\n",
       "    <tr>\n",
       "      <th>1</th>\n",
       "      <td>0005EC02F1DC3A15</td>\n",
       "      <td>0</td>\n",
       "      <td>0</td>\n",
       "      <td>2</td>\n",
       "      <td>71</td>\n",
       "      <td>1.631</td>\n",
       "      <td>True</td>\n",
       "      <td>False</td>\n",
       "      <td>False</td>\n",
       "      <td>True</td>\n",
       "      <td>True</td>\n",
       "      <td>False</td>\n",
       "      <td>False</td>\n",
       "      <td>True</td>\n",
       "      <td>False</td>\n",
       "      <td>False</td>\n",
       "    </tr>\n",
       "    <tr>\n",
       "      <th>2</th>\n",
       "      <td>0006C4369B0D7B5F</td>\n",
       "      <td>0</td>\n",
       "      <td>0</td>\n",
       "      <td>2</td>\n",
       "      <td>68</td>\n",
       "      <td>0.585</td>\n",
       "      <td>True</td>\n",
       "      <td>False</td>\n",
       "      <td>False</td>\n",
       "      <td>True</td>\n",
       "      <td>False</td>\n",
       "      <td>False</td>\n",
       "      <td>True</td>\n",
       "      <td>False</td>\n",
       "      <td>False</td>\n",
       "      <td>False</td>\n",
       "    </tr>\n",
       "    <tr>\n",
       "      <th>3</th>\n",
       "      <td>000960C9E1C43BE4</td>\n",
       "      <td>0</td>\n",
       "      <td>0</td>\n",
       "      <td>12</td>\n",
       "      <td>79</td>\n",
       "      <td>1.660</td>\n",
       "      <td>False</td>\n",
       "      <td>False</td>\n",
       "      <td>False</td>\n",
       "      <td>True</td>\n",
       "      <td>True</td>\n",
       "      <td>False</td>\n",
       "      <td>False</td>\n",
       "      <td>False</td>\n",
       "      <td>False</td>\n",
       "      <td>True</td>\n",
       "    </tr>\n",
       "    <tr>\n",
       "      <th>4</th>\n",
       "      <td>00098CF15837D918</td>\n",
       "      <td>0</td>\n",
       "      <td>0</td>\n",
       "      <td>4</td>\n",
       "      <td>91</td>\n",
       "      <td>1.768</td>\n",
       "      <td>True</td>\n",
       "      <td>False</td>\n",
       "      <td>False</td>\n",
       "      <td>True</td>\n",
       "      <td>True</td>\n",
       "      <td>False</td>\n",
       "      <td>False</td>\n",
       "      <td>False</td>\n",
       "      <td>False</td>\n",
       "      <td>True</td>\n",
       "    </tr>\n",
       "  </tbody>\n",
       "</table>\n",
       "</div>"
      ],
      "text/plain": [
       "                 ID  Readmit  ER  LOS  Age    HCC  Gender_M  Race_Hispanic  \\\n",
       "0  0005EC02F1DC3A15        0   0    3   71  1.631      True          False   \n",
       "1  0005EC02F1DC3A15        0   0    2   71  1.631      True          False   \n",
       "2  0006C4369B0D7B5F        0   0    2   68  0.585      True          False   \n",
       "3  000960C9E1C43BE4        0   0   12   79  1.660     False          False   \n",
       "4  00098CF15837D918        0   0    4   91  1.768      True          False   \n",
       "\n",
       "   Race_Others  Race_White  DRG_Class_SURG  DRG_Class_UNGROUP  \\\n",
       "0        False        True           False              False   \n",
       "1        False        True            True              False   \n",
       "2        False        True           False              False   \n",
       "3        False        True            True              False   \n",
       "4        False        True            True              False   \n",
       "\n",
       "   DRG_Comp_MedicalNoC  DRG_Comp_Other  DRG_Comp_SurgMCC.CC  DRG_Comp_SurgNoC  \n",
       "0                False           False                False             False  \n",
       "1                False            True                False             False  \n",
       "2                 True           False                False             False  \n",
       "3                False           False                False              True  \n",
       "4                False           False                False              True  "
      ]
     },
     "execution_count": 7,
     "metadata": {},
     "output_type": "execute_result"
    }
   ],
   "source": [
    "df1.head()"
   ]
  },
  {
   "cell_type": "markdown",
   "id": "899de51a-879d-4c1a-9abb-9a520ac4045a",
   "metadata": {},
   "source": [
    "### Create Subgroups (via risk propensities)"
   ]
  },
  {
   "cell_type": "code",
   "execution_count": 8,
   "id": "a0c3b6ca-d282-4524-bcc1-ac8f345c5f59",
   "metadata": {},
   "outputs": [],
   "source": [
    "df1 = mdls.create_subgroups(df1)"
   ]
  },
  {
   "cell_type": "code",
   "execution_count": 9,
   "id": "41a9ea4f-f89f-4dce-8238-ffc82eba7e6f",
   "metadata": {},
   "outputs": [
    {
     "data": {
      "text/plain": [
       "subgroup\n",
       "0    0.071706\n",
       "1    0.130614\n",
       "2    0.283908\n",
       "Name: preds, dtype: float64"
      ]
     },
     "execution_count": 9,
     "metadata": {},
     "output_type": "execute_result"
    }
   ],
   "source": [
    "df1.groupby('subgroup')['preds'].mean()"
   ]
  },
  {
   "cell_type": "code",
   "execution_count": 10,
   "id": "4856c9e4-a673-4a14-b500-561abd15023b",
   "metadata": {},
   "outputs": [
    {
     "data": {
      "image/png": "[encoded data removed]",
      "text/plain": [
       "<Figure size 1000x600 with 1 Axes>"
      ]
     },
     "metadata": {},
     "output_type": "display_data"
    }
   ],
   "source": [
    "# Sort the DataFrame by 'preds' to get the ranks\n",
    "df_sorted = df1.sort_values(by='preds').reset_index(drop=True)\n",
    "\n",
    "# Create a rank for x-axis\n",
    "df_sorted['rank'] = df_sorted.index + 1\n",
    "\n",
    "# Plotting\n",
    "plt.figure(figsize=(10, 6))\n",
    "\n",
    "# Loop through each unique subgroup and plot with a different color\n",
    "for subgroup in df_sorted['subgroup'].unique():\n",
    "    subgroup_data = df_sorted[df_sorted['subgroup'] == subgroup]\n",
    "    plt.scatter(subgroup_data['rank'], subgroup_data['preds'], label=f'Subgroup {subgroup}')\n",
    "\n",
    "plt.xlabel('Rank (1 to n) - Lowest to Highest Risk')\n",
    "plt.ylabel('Risk Score')\n",
    "plt.title('Risk Score vs. Rank by Subgroup')\n",
    "plt.grid(True)\n",
    "plt.legend(title='Subgroup')\n",
    "plt.show()"
   ]
  },
  {
   "cell_type": "markdown",
   "id": "17bb157b-8538-41a4-84e6-2539284f4c2a",
   "metadata": {},
   "source": [
    "### Create Treatment"
   ]
  },
  {
   "cell_type": "code",
   "execution_count": 11,
   "id": "5930d4aa-7f8d-4d53-b82d-ad0259a3294d",
   "metadata": {},
   "outputs": [],
   "source": [
    "# seed random number generator\n",
    "seed(1)\n",
    "# Randomized Tx (30% of cohort)\n",
    "df1['Tx'] = [1 if np.random.rand()<0.3 else 0 for k in df1.index]"
   ]
  },
  {
   "cell_type": "code",
   "execution_count": 12,
   "id": "dc668370-e11b-4ba2-9bcd-18ffad34546e",
   "metadata": {},
   "outputs": [],
   "source": [
    "df1 = mdls.create_treatment1(df1)"
   ]
  },
  {
   "cell_type": "code",
   "execution_count": 13,
   "id": "30426b22-e33c-4846-997c-2f3a0275d976",
   "metadata": {},
   "outputs": [
    {
     "data": {
      "text/html": [
       "<div>\n",
       "<style scoped>\n",
       "    .dataframe tbody tr th:only-of-type {\n",
       "        vertical-align: middle;\n",
       "    }\n",
       "\n",
       "    .dataframe tbody tr th {\n",
       "        vertical-align: top;\n",
       "    }\n",
       "\n",
       "    .dataframe thead th {\n",
       "        text-align: right;\n",
       "    }\n",
       "</style>\n",
       "<table border=\"1\" class=\"dataframe\">\n",
       "  <thead>\n",
       "    <tr style=\"text-align: right;\">\n",
       "      <th></th>\n",
       "      <th>Readmit</th>\n",
       "      <th>Readmit_red</th>\n",
       "    </tr>\n",
       "    <tr>\n",
       "      <th>Tx</th>\n",
       "      <th></th>\n",
       "      <th></th>\n",
       "    </tr>\n",
       "  </thead>\n",
       "  <tbody>\n",
       "    <tr>\n",
       "      <th>0</th>\n",
       "      <td>0.126130</td>\n",
       "      <td>0.126130</td>\n",
       "    </tr>\n",
       "    <tr>\n",
       "      <th>1</th>\n",
       "      <td>0.125423</td>\n",
       "      <td>0.083035</td>\n",
       "    </tr>\n",
       "  </tbody>\n",
       "</table>\n",
       "</div>"
      ],
      "text/plain": [
       "     Readmit  Readmit_red\n",
       "Tx                       \n",
       "0   0.126130     0.126130\n",
       "1   0.125423     0.083035"
      ]
     },
     "execution_count": 13,
     "metadata": {},
     "output_type": "execute_result"
    }
   ],
   "source": [
    "exp_results_df = df1.groupby('Tx')[['Readmit','Readmit_red']].mean() #actual\n",
    "exp_results_df"
   ]
  },
  {
   "cell_type": "code",
   "execution_count": 14,
   "id": "4ffc3c7a-4072-4050-b5eb-0bd04c103ff2",
   "metadata": {},
   "outputs": [
    {
     "data": {
      "text/html": [
       "<div>\n",
       "<style scoped>\n",
       "    .dataframe tbody tr th:only-of-type {\n",
       "        vertical-align: middle;\n",
       "    }\n",
       "\n",
       "    .dataframe tbody tr th {\n",
       "        vertical-align: top;\n",
       "    }\n",
       "\n",
       "    .dataframe thead th {\n",
       "        text-align: right;\n",
       "    }\n",
       "</style>\n",
       "<table border=\"1\" class=\"dataframe\">\n",
       "  <thead>\n",
       "    <tr style=\"text-align: right;\">\n",
       "      <th></th>\n",
       "      <th>ID</th>\n",
       "      <th>Readmit</th>\n",
       "      <th>ER</th>\n",
       "      <th>LOS</th>\n",
       "      <th>Age</th>\n",
       "      <th>HCC</th>\n",
       "      <th>Gender_M</th>\n",
       "      <th>Race_Hispanic</th>\n",
       "      <th>Race_Others</th>\n",
       "      <th>Race_White</th>\n",
       "      <th>DRG_Class_SURG</th>\n",
       "      <th>DRG_Class_UNGROUP</th>\n",
       "      <th>DRG_Comp_MedicalNoC</th>\n",
       "      <th>DRG_Comp_Other</th>\n",
       "      <th>DRG_Comp_SurgMCC.CC</th>\n",
       "      <th>DRG_Comp_SurgNoC</th>\n",
       "      <th>preds</th>\n",
       "      <th>subgroup</th>\n",
       "      <th>Tx</th>\n",
       "      <th>Readmit_red</th>\n",
       "    </tr>\n",
       "  </thead>\n",
       "  <tbody>\n",
       "    <tr>\n",
       "      <th>0</th>\n",
       "      <td>0005EC02F1DC3A15</td>\n",
       "      <td>0</td>\n",
       "      <td>0</td>\n",
       "      <td>3</td>\n",
       "      <td>71</td>\n",
       "      <td>1.631</td>\n",
       "      <td>True</td>\n",
       "      <td>False</td>\n",
       "      <td>False</td>\n",
       "      <td>True</td>\n",
       "      <td>False</td>\n",
       "      <td>False</td>\n",
       "      <td>False</td>\n",
       "      <td>False</td>\n",
       "      <td>False</td>\n",
       "      <td>False</td>\n",
       "      <td>0.079367</td>\n",
       "      <td>0</td>\n",
       "      <td>1</td>\n",
       "      <td>0</td>\n",
       "    </tr>\n",
       "    <tr>\n",
       "      <th>1</th>\n",
       "      <td>0005EC02F1DC3A15</td>\n",
       "      <td>0</td>\n",
       "      <td>0</td>\n",
       "      <td>2</td>\n",
       "      <td>71</td>\n",
       "      <td>1.631</td>\n",
       "      <td>True</td>\n",
       "      <td>False</td>\n",
       "      <td>False</td>\n",
       "      <td>True</td>\n",
       "      <td>True</td>\n",
       "      <td>False</td>\n",
       "      <td>False</td>\n",
       "      <td>True</td>\n",
       "      <td>False</td>\n",
       "      <td>False</td>\n",
       "      <td>0.085171</td>\n",
       "      <td>0</td>\n",
       "      <td>0</td>\n",
       "      <td>0</td>\n",
       "    </tr>\n",
       "    <tr>\n",
       "      <th>2</th>\n",
       "      <td>0006C4369B0D7B5F</td>\n",
       "      <td>0</td>\n",
       "      <td>0</td>\n",
       "      <td>2</td>\n",
       "      <td>68</td>\n",
       "      <td>0.585</td>\n",
       "      <td>True</td>\n",
       "      <td>False</td>\n",
       "      <td>False</td>\n",
       "      <td>True</td>\n",
       "      <td>False</td>\n",
       "      <td>False</td>\n",
       "      <td>True</td>\n",
       "      <td>False</td>\n",
       "      <td>False</td>\n",
       "      <td>False</td>\n",
       "      <td>0.051437</td>\n",
       "      <td>0</td>\n",
       "      <td>0</td>\n",
       "      <td>0</td>\n",
       "    </tr>\n",
       "    <tr>\n",
       "      <th>3</th>\n",
       "      <td>000960C9E1C43BE4</td>\n",
       "      <td>0</td>\n",
       "      <td>0</td>\n",
       "      <td>12</td>\n",
       "      <td>79</td>\n",
       "      <td>1.660</td>\n",
       "      <td>False</td>\n",
       "      <td>False</td>\n",
       "      <td>False</td>\n",
       "      <td>True</td>\n",
       "      <td>True</td>\n",
       "      <td>False</td>\n",
       "      <td>False</td>\n",
       "      <td>False</td>\n",
       "      <td>False</td>\n",
       "      <td>True</td>\n",
       "      <td>0.083321</td>\n",
       "      <td>0</td>\n",
       "      <td>0</td>\n",
       "      <td>0</td>\n",
       "    </tr>\n",
       "    <tr>\n",
       "      <th>4</th>\n",
       "      <td>00098CF15837D918</td>\n",
       "      <td>0</td>\n",
       "      <td>0</td>\n",
       "      <td>4</td>\n",
       "      <td>91</td>\n",
       "      <td>1.768</td>\n",
       "      <td>True</td>\n",
       "      <td>False</td>\n",
       "      <td>False</td>\n",
       "      <td>True</td>\n",
       "      <td>True</td>\n",
       "      <td>False</td>\n",
       "      <td>False</td>\n",
       "      <td>False</td>\n",
       "      <td>False</td>\n",
       "      <td>True</td>\n",
       "      <td>0.076499</td>\n",
       "      <td>0</td>\n",
       "      <td>0</td>\n",
       "      <td>0</td>\n",
       "    </tr>\n",
       "  </tbody>\n",
       "</table>\n",
       "</div>"
      ],
      "text/plain": [
       "                 ID  Readmit  ER  LOS  Age    HCC  Gender_M  Race_Hispanic  \\\n",
       "0  0005EC02F1DC3A15        0   0    3   71  1.631      True          False   \n",
       "1  0005EC02F1DC3A15        0   0    2   71  1.631      True          False   \n",
       "2  0006C4369B0D7B5F        0   0    2   68  0.585      True          False   \n",
       "3  000960C9E1C43BE4        0   0   12   79  1.660     False          False   \n",
       "4  00098CF15837D918        0   0    4   91  1.768      True          False   \n",
       "\n",
       "   Race_Others  Race_White  DRG_Class_SURG  DRG_Class_UNGROUP  \\\n",
       "0        False        True           False              False   \n",
       "1        False        True            True              False   \n",
       "2        False        True           False              False   \n",
       "3        False        True            True              False   \n",
       "4        False        True            True              False   \n",
       "\n",
       "   DRG_Comp_MedicalNoC  DRG_Comp_Other  DRG_Comp_SurgMCC.CC  DRG_Comp_SurgNoC  \\\n",
       "0                False           False                False             False   \n",
       "1                False            True                False             False   \n",
       "2                 True           False                False             False   \n",
       "3                False           False                False              True   \n",
       "4                False           False                False              True   \n",
       "\n",
       "      preds  subgroup  Tx  Readmit_red  \n",
       "0  0.079367         0   1            0  \n",
       "1  0.085171         0   0            0  \n",
       "2  0.051437         0   0            0  \n",
       "3  0.083321         0   0            0  \n",
       "4  0.076499         0   0            0  "
      ]
     },
     "execution_count": 14,
     "metadata": {},
     "output_type": "execute_result"
    }
   ],
   "source": [
    "df1.head()"
   ]
  },
  {
   "cell_type": "markdown",
   "id": "62d078d9-855e-4a54-89df-dc1edaa7b4df",
   "metadata": {},
   "source": [
    "### Create Cost"
   ]
  },
  {
   "cell_type": "code",
   "execution_count": 15,
   "id": "20ec3375-a036-44f7-8bfb-7f7368226adb",
   "metadata": {},
   "outputs": [],
   "source": [
    "df1 = mdls.create_cost(df1, 'Tx', c0=10, c1=400)"
   ]
  },
  {
   "cell_type": "code",
   "execution_count": 16,
   "id": "4b0c4678-833b-4c43-9c9a-b6a673079141",
   "metadata": {},
   "outputs": [
    {
     "data": {
      "text/html": [
       "<div>\n",
       "<style scoped>\n",
       "    .dataframe tbody tr th:only-of-type {\n",
       "        vertical-align: middle;\n",
       "    }\n",
       "\n",
       "    .dataframe tbody tr th {\n",
       "        vertical-align: top;\n",
       "    }\n",
       "\n",
       "    .dataframe thead th {\n",
       "        text-align: right;\n",
       "    }\n",
       "</style>\n",
       "<table border=\"1\" class=\"dataframe\">\n",
       "  <thead>\n",
       "    <tr style=\"text-align: right;\">\n",
       "      <th></th>\n",
       "      <th>Tx</th>\n",
       "      <th>count</th>\n",
       "      <th>avg_cost</th>\n",
       "    </tr>\n",
       "  </thead>\n",
       "  <tbody>\n",
       "    <tr>\n",
       "      <th>0</th>\n",
       "      <td>0</td>\n",
       "      <td>46682</td>\n",
       "      <td>10.0</td>\n",
       "    </tr>\n",
       "    <tr>\n",
       "      <th>1</th>\n",
       "      <td>1</td>\n",
       "      <td>20100</td>\n",
       "      <td>400.0</td>\n",
       "    </tr>\n",
       "  </tbody>\n",
       "</table>\n",
       "</div>"
      ],
      "text/plain": [
       "   Tx  count  avg_cost\n",
       "0   0  46682      10.0\n",
       "1   1  20100     400.0"
      ]
     },
     "execution_count": 16,
     "metadata": {},
     "output_type": "execute_result"
    }
   ],
   "source": [
    "df1.groupby('Tx').agg(\n",
    "    count=('ID', 'size'),\n",
    "    avg_cost=('cost', 'mean')\n",
    ").reset_index()"
   ]
  },
  {
   "cell_type": "markdown",
   "id": "61881520-7acd-4aa0-9e84-910cc842b26e",
   "metadata": {},
   "source": [
    "### OWL Model"
   ]
  },
  {
   "cell_type": "code",
   "execution_count": 17,
   "id": "d09db724-8f00-4e97-bd22-5675b49724d2",
   "metadata": {},
   "outputs": [],
   "source": [
    "features_df = df1.drop(['Readmit','Readmit_red','ID','preds','cost','subgroup'],axis=1)\n",
    "\n",
    "A = df1.columns.to_list()\n",
    "B = ['Readmit','Readmit_red','ID','preds','subgroup','cost','Tx']\n",
    "features = list(set(A) - set(B)) "
   ]
  },
  {
   "cell_type": "code",
   "execution_count": 18,
   "id": "8a304208-8687-4b08-b100-3fd1224214b6",
   "metadata": {},
   "outputs": [],
   "source": [
    "from sklearn.model_selection import train_test_split\n",
    "\n",
    "train_index, test_index = train_test_split(df1.index, test_size=0.3, random_state=0)\n",
    "    \n",
    "train_df = df1.iloc[train_index]\n",
    "test_df  = df1.iloc[test_index]"
   ]
  },
  {
   "cell_type": "code",
   "execution_count": null,
   "id": "c5e42ac6-a34f-4b44-80f9-f01a540119bd",
   "metadata": {},
   "outputs": [],
   "source": [
    "k_values = np.arange(0, 1.1, 0.1)\n",
    "svm_C = 1.0  \n",
    "max_iter=5000\n",
    "results_df = mdls.analyze_k_values(train_df, test_df, features, 'Tx', 'cost', 'Readmit_red', k_values, svm_C, max_iter)\n",
    "print(results_df)\n"
   ]
  },
  {
   "cell_type": "markdown",
   "id": "4ffc37c8-f170-4a3f-b6b6-cafbd8ec1d6b",
   "metadata": {},
   "source": [
    "### Plots"
   ]
  },
  {
   "cell_type": "code",
   "execution_count": 20,
   "id": "611edb69-2a39-4976-8e26-cc5921fcb148",
   "metadata": {},
   "outputs": [
    {
     "data": {
      "image/png": "[encoded data removed]",
      "text/plain": [
       "<Figure size 1000x600 with 2 Axes>"
      ]
     },
     "metadata": {},
     "output_type": "display_data"
    }
   ],
   "source": [
    "plt.figure(figsize=(10, 6))\n",
    "plt.scatter(results_df['total_cost'], results_df['total_inverse_R'], c=results_df['k'], cmap='viridis', edgecolors='k')\n",
    "plt.colorbar(label='k value')\n",
    "plt.xlabel('Total Cost (C)')\n",
    "plt.ylabel('Total Inverse Reward (R)')\n",
    "plt.title('Total Inverse Reward (R) vs. Total Cost (C) for Different k Values')\n",
    "plt.grid(True)\n",
    "plt.show()"
   ]
  },
  {
   "cell_type": "code",
   "execution_count": 21,
   "id": "8ba7c0a1-872a-46d2-954e-e3ee71745e98",
   "metadata": {},
   "outputs": [
    {
     "data": {
      "image/png": "[encoded data removed]",
      "text/plain": [
       "<Figure size 1000x600 with 1 Axes>"
      ]
     },
     "metadata": {},
     "output_type": "display_data"
    }
   ],
   "source": [
    "# Plot the number of treated patients against k values\n",
    "plt.figure(figsize=(10, 6))\n",
    "plt.plot(results_df['k'], results_df['num_treated'], marker='o', linestyle='-', color='b')\n",
    "plt.xlabel('k value')\n",
    "plt.ylabel('Number of Treated Patients')\n",
    "plt.title('Number of Treated Patients vs. k Value')\n",
    "plt.grid(True)\n",
    "plt.show()"
   ]
  },
  {
   "cell_type": "code",
   "execution_count": null,
   "id": "1c88012d-7e32-4d07-9404-0177a4ab881e",
   "metadata": {},
   "outputs": [],
   "source": []
  },
  {
   "cell_type": "code",
   "execution_count": null,
   "id": "7b19c8c9-2e30-41ff-b77a-329fda2f88b4",
   "metadata": {},
   "outputs": [],
   "source": []
  }
 ],
 "metadata": {
  "kernelspec": {
   "display_name": "Python 3 (ipykernel)",
   "language": "python",
   "name": "python3"
  },
  "language_info": {
   "codemirror_mode": {
    "name": "ipython",
    "version": 3
   },
   "file_extension": ".py",
   "mimetype": "text/x-python",
   "name": "python",
   "nbconvert_exporter": "python",
   "pygments_lexer": "ipython3",
   "version": "3.11.7"
  }
 },
 "nbformat": 4,
 "nbformat_minor": 5
}
